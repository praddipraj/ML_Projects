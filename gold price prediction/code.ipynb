{
 "cells": [
  {
   "cell_type": "code",
   "execution_count": null,
   "metadata": {},
   "outputs": [],
   "source": []
  },
  {
   "cell_type": "code",
   "execution_count": 13,
   "metadata": {},
   "outputs": [
    {
     "name": "stdout",
     "output_type": "stream",
     "text": [
      "Failed to parse price: Gold price element not found\n"
     ]
    }
   ],
   "source": [
    "import requests\n",
    "from bs4 import BeautifulSoup\n",
    "import pandas as pd\n",
    "from datetime import datetime\n",
    "\n",
    "def get_gold_price():\n",
    "    url = 'https://www.investing.com/commodities/gold'\n",
    "    headers = {\n",
    "        'User-Agent': 'Mozilla/5.0 (Windows NT 10.0; Win64; x64) AppleWebKit/537.36 '\n",
    "                      '(KHTML, like Gecko) Chrome/91.0.4472.124 Safari/537.36'\n",
    "    }\n",
    "\n",
    "    # Send a GET request to the URL\n",
    "    try:\n",
    "        response = requests.get(url, headers=headers)\n",
    "        response.raise_for_status()  # Raise an exception for HTTP errors\n",
    "    except requests.exceptions.RequestException as e:\n",
    "        print(f'Failed to retrieve page: {e}')\n",
    "        return None\n",
    "    \n",
    "    # Parse the HTML using BeautifulSoup\n",
    "    soup = BeautifulSoup(response.content, 'html.parser')\n",
    "\n",
    "    # Extract the current gold price\n",
    "    try:\n",
    "        # Look for the correct element containing the gold price\n",
    "        price_element = soup.find('span', class_='instrument-price_last__KQzyA')\n",
    "        if price_element:\n",
    "            gold_price = price_element.text.strip()\n",
    "        else:\n",
    "            raise ValueError('Gold price element not found')\n",
    "    except (AttributeError, ValueError) as e:\n",
    "        print(f'Failed to parse price: {e}')\n",
    "        return None\n",
    "    \n",
    "    return gold_price\n",
    "\n",
    "def get_economic_data():\n",
    "    # Example: Fetching GDP growth and inflation rate (replace with actual API calls)\n",
    "    gdp_growth = 2.5  # Example GDP growth rate\n",
    "    inflation_rate = 2.0  # Example inflation rate\n",
    "    return gdp_growth, inflation_rate\n",
    "\n",
    "def get_currency_exchange_rate():\n",
    "    # Example: Fetching USD to EUR exchange rate (replace with actual API calls)\n",
    "    usd_to_eur = 0.88  # Example exchange rate\n",
    "    return usd_to_eur\n",
    "\n",
    "def save_data_to_csv(gold_price, gdp_growth, inflation_rate, usd_to_eur, filename='gold_data.csv'):\n",
    "    timestamp = datetime.now().strftime('%Y-%m-%d %H:%M:%S')\n",
    "    data = {\n",
    "        'Timestamp': [timestamp],\n",
    "        'Gold_Price': [gold_price],\n",
    "        'GDP_Growth': [gdp_growth],\n",
    "        'Inflation_Rate': [inflation_rate],\n",
    "        'USD_to_EUR': [usd_to_eur]\n",
    "    }\n",
    "    df = pd.DataFrame(data)\n",
    "    \n",
    "    # Save to CSV\n",
    "    df.to_csv(filename, mode='a', header=not filename.exists(), index=False)\n",
    "\n",
    "if __name__ == \"__main__\":\n",
    "    gold_price = get_gold_price()\n",
    "    if gold_price:\n",
    "        gdp_growth, inflation_rate = get_economic_data()\n",
    "        usd_to_eur = get_currency_exchange_rate()\n",
    "\n",
    "        save_data_to_csv(gold_price, gdp_growth, inflation_rate, usd_to_eur)\n",
    "        print(f'Current gold price: {gold_price}')\n",
    "        print(f'GDP Growth: {gdp_growth}')\n",
    "        print(f'Inflation Rate: {inflation_rate}')\n",
    "        print(f'USD to EUR Exchange Rate: {usd_to_eur}')\n"
   ]
  },
  {
   "cell_type": "code",
   "execution_count": null,
   "metadata": {},
   "outputs": [],
   "source": []
  }
 ],
 "metadata": {
  "kernelspec": {
   "display_name": "Python 3",
   "language": "python",
   "name": "python3"
  },
  "language_info": {
   "codemirror_mode": {
    "name": "ipython",
    "version": 3
   },
   "file_extension": ".py",
   "mimetype": "text/x-python",
   "name": "python",
   "nbconvert_exporter": "python",
   "pygments_lexer": "ipython3",
   "version": "3.10.10"
  }
 },
 "nbformat": 4,
 "nbformat_minor": 2
}
